{
 "cells": [
  {
   "cell_type": "markdown",
   "metadata": {},
   "source": [
    "# Analysing a PPG signal\n",
    "\n",
    "This notebook is aimed at those with no knowledge of HeartPy. It contains a few simple examples of the API available.\n",
    "\n",
    "In this notebook we'll go over how to analyse a regular PPG signal with HeartPy.\n",
    "\n",
    "For this we'll use the example datasets that are packaged with HeartPy."
   ]
  },
  {
   "cell_type": "code",
   "metadata": {
    "ExecuteTime": {
     "end_time": "2024-05-09T09:16:30.093467Z",
     "start_time": "2024-05-09T09:16:29.372942Z"
    }
   },
   "source": [
    "#First let's import\n",
    "import heartpy as hp\n",
    "import matplotlib.pyplot as plt"
   ],
   "execution_count": 1,
   "outputs": []
  },
  {
   "cell_type": "markdown",
   "metadata": {},
   "source": [
    "HeartPy comes with a function ***load_exampledata()*** that can load the datasets provded. It will return a tuple (data, timer), where 'timer' is the timer column (ms or datetime). If no timer column is available a tuple is still returned, but with timer array being empty.\n",
    "\n",
    "There's three datasets included with HeartPy:\n",
    "- 0 : a short, very clean PPG signal, sampled at 100.0 Hz\n",
    "- 1 : a slightly longer (~2 minute) PPG signal, with missing signal in first third, and random noise spikes in rest of signal\n",
    "- 2 : a long (~11.5 minute) PPG signal recorded 'in the wild' while driving in a driving simulator using a Pulse Sensor on the index finger and an Arduino\n",
    "\n",
    "---------\n",
    "\n",
    "Let's go through all three examples and run an analysis for each."
   ]
  },
  {
   "cell_type": "code",
   "metadata": {
    "ExecuteTime": {
     "end_time": "2024-05-09T09:16:30.227849Z",
     "start_time": "2024-05-09T09:16:30.094679Z"
    }
   },
   "source": [
    "#first let's load the clean PPG signal\n",
    "data, timer = hp.load_exampledata(0)\n",
    "\n",
    "#and visualise\n",
    "plt.figure(figsize=(12,4))\n",
    "plt.plot(data)\n",
    "plt.show()"
   ],
   "execution_count": 2,
   "outputs": []
  },
  {
   "cell_type": "markdown",
   "metadata": {},
   "source": [
    "#### That is a beautiful signal. Analysis should pose no issue\n",
    "\n",
    "when running ***hp.process()***, two dicts are returned: working_data (containing working data that you may want to access nonetheless, like peak positions and peak-peak intervals), and measures (containing the computed output measures).\n",
    "\n",
    "In the docs we abbreviate these to **'wd'** and **'m'**"
   ]
  },
  {
   "cell_type": "code",
   "metadata": {
    "ExecuteTime": {
     "end_time": "2024-05-09T09:16:30.250860Z",
     "start_time": "2024-05-09T09:16:30.233418Z"
    }
   },
   "source": [
    "#run the analysis\n",
    "wd, m = hp.process(data, sample_rate = 100.0)"
   ],
   "execution_count": 3,
   "outputs": []
  },
  {
   "cell_type": "markdown",
   "metadata": {},
   "source": [
    "#### Now you may want to visualize the results of the analysis.\n",
    "\n",
    "Heartpy comes with a function ***hp.plotter(wd, m)*** that does just this. The function requires you to give it the working_data and measures dict.\n",
    "\n",
    "If you specify parameters like a figure size to matplotlib before calling ***hp.plotter(wd, m)***, the specified figure size will be used."
   ]
  },
  {
   "cell_type": "code",
   "metadata": {
    "ExecuteTime": {
     "end_time": "2024-05-09T09:16:30.397751Z",
     "start_time": "2024-05-09T09:16:30.253268Z"
    }
   },
   "source": [
    "#set large figure\n",
    "plt.figure(figsize=(12,4))\n",
    "\n",
    "#call plotter\n",
    "hp.plotter(wd, m)\n",
    "\n",
    "#display measures computed\n",
    "for measure in m.keys():\n",
    "    print('%s: %f' %(measure, m[measure]))"
   ],
   "execution_count": 4,
   "outputs": []
  },
  {
   "cell_type": "markdown",
   "metadata": {},
   "source": [
    "That looks nice, and we ran into no problems.\n",
    "\n",
    "----------\n",
    "\n",
    "Let's move on to the second included dataset and explore it first:"
   ]
  },
  {
   "cell_type": "code",
   "metadata": {
    "ExecuteTime": {
     "end_time": "2024-05-09T09:16:30.535790Z",
     "start_time": "2024-05-09T09:16:30.399435Z"
    }
   },
   "source": [
    "data, timer = hp.load_exampledata(1)\n",
    "\n",
    "plt.figure(figsize=(12,4))\n",
    "plt.plot(data)\n",
    "plt.show()"
   ],
   "execution_count": 5,
   "outputs": []
  },
  {
   "cell_type": "markdown",
   "metadata": {},
   "source": [
    "This is a more tricky signal I made intentionally. There's no signal in the beginning as I started recording before and while putting on the sensor. After the signal commences there's a few noise spikes as I forcefully moved the sensor while recording. This imitates what may happen when recording 'in the wild' as well if the participant moves and accidentally tugs at a sensor cable.\n",
    "\n",
    "HeartPy is designed to handle this sort of thing out of the box. Let's look at the example first:"
   ]
  },
  {
   "cell_type": "code",
   "metadata": {
    "ExecuteTime": {
     "end_time": "2024-05-09T09:16:30.665253Z",
     "start_time": "2024-05-09T09:16:30.536676Z"
    }
   },
   "source": [
    "sample_rate = hp.get_samplerate_mstimer(timer)\n",
    "\n",
    "wd, m = hp.process(data, sample_rate)\n",
    "\n",
    "#plot\n",
    "plt.figure(figsize=(12,4))\n",
    "hp.plotter(wd, m)\n",
    "\n",
    "#display measures computed\n",
    "for measure in m.keys():\n",
    "    print('%s: %f' %(measure, m[measure]))"
   ],
   "execution_count": 6,
   "outputs": []
  },
  {
   "cell_type": "markdown",
   "metadata": {},
   "source": [
    "Note we computed the sample_rate from a timer column (that was in ms values). This is important beforehand since we didn't know with what sample_rate the signal was sampled. All measures depend on knowing the sample rate.\n",
    "\n",
    "HeartPy comes with two functions: ***hp.get_samplerate_mstimer()*** that computes sample rate based on a ms-timer, and ***hp.get_samplerate_datetime()***, that computes sample_rate based on a column in datetime values.\n",
    "\n",
    "You saw how we used the mstimer earlier, now let's look at a 'in the wild' recording that uses datetime strings to encode time:"
   ]
  },
  {
   "cell_type": "code",
   "metadata": {
    "ExecuteTime": {
     "end_time": "2024-05-09T09:16:30.959938Z",
     "start_time": "2024-05-09T09:16:30.666276Z"
    }
   },
   "source": [
    "data, timer = hp.load_exampledata(2)\n",
    "\n",
    "print(timer[0])"
   ],
   "execution_count": 7,
   "outputs": []
  },
  {
   "cell_type": "markdown",
   "metadata": {},
   "source": [
    "When computing the sample rate we need to give ***get_samplerate_datetime()*** the format of the string (by default it expects HH:MM:SS.ms):"
   ]
  },
  {
   "cell_type": "code",
   "metadata": {
    "ExecuteTime": {
     "end_time": "2024-05-09T09:16:30.964954Z",
     "start_time": "2024-05-09T09:16:30.960689Z"
    }
   },
   "source": [
    "sample_rate = hp.get_samplerate_datetime(timer, timeformat='%Y-%m-%d %H:%M:%S.%f')\n",
    "\n",
    "print('sample rate is: %f Hz' %sample_rate)"
   ],
   "execution_count": 8,
   "outputs": []
  },
  {
   "cell_type": "markdown",
   "metadata": {},
   "source": [
    "Now that we know all that, running the analysis is the same as before:"
   ]
  },
  {
   "cell_type": "code",
   "metadata": {
    "ExecuteTime": {
     "end_time": "2024-05-09T09:16:31.559359Z",
     "start_time": "2024-05-09T09:16:30.965753Z"
    }
   },
   "source": [
    "wd, m = hp.process(data, sample_rate, report_time = True)\n",
    "\n",
    "#plot\n",
    "plt.figure(figsize=(12,4))\n",
    "hp.plotter(wd, m)\n",
    "\n",
    "#let's zoom in on a bit\n",
    "plt.figure(figsize=(12,4))\n",
    "plt.xlim(20000, 30000)\n",
    "hp.plotter(wd, m)\n",
    "\n",
    "#display measures computed\n",
    "for measure in m.keys():\n",
    "    print('%s: %f' %(measure, m[measure]))"
   ],
   "execution_count": 9,
   "outputs": []
  },
  {
   "cell_type": "markdown",
   "metadata": {},
   "source": [
    "### Well that looks just swell!\n",
    "\n",
    "Now you know how to use HeartPy to analyse basic PPG signals.\n",
    "\n",
    "Take a look at some of the other notebooks to see how to handle lower quality signals that come from various wearables (smartwatch, smart ring), as well as how to handle (noisy) ECG signals!"
   ]
  },
  {
   "cell_type": "code",
   "metadata": {
    "ExecuteTime": {
     "end_time": "2024-05-09T09:16:31.562097Z",
     "start_time": "2024-05-09T09:16:31.560495Z"
    }
   },
   "source": [],
   "execution_count": 9,
   "outputs": []
  }
 ],
 "metadata": {
  "kernelspec": {
   "display_name": "Python 3",
   "language": "python",
   "name": "python3"
  },
  "language_info": {
   "codemirror_mode": {
    "name": "ipython",
    "version": 3
   },
   "file_extension": ".py",
   "mimetype": "text/x-python",
   "name": "python",
   "nbconvert_exporter": "python",
   "pygments_lexer": "ipython3",
   "version": "3.7.4"
  }
 },
 "nbformat": 4,
 "nbformat_minor": 2
}
