{
 "cells": [
  {
   "cell_type": "code",
   "id": "initial_id",
   "metadata": {
    "collapsed": true,
    "ExecuteTime": {
     "end_time": "2024-07-22T18:40:08.770962Z",
     "start_time": "2024-07-22T18:40:08.496138Z"
    }
   },
   "source": [
    "from vvcore import *\n",
    "\n",
    "test = ChannelType.CNT\n",
    "print(test)\n",
    "\n",
    "params = EcgAnalysisParameters(\n",
    "    sampling_frequency=30,\n",
    "    filter_cutoff_low=0.6,\n",
    "    filter_order=1,\n",
    "    r_peak_prominence_mad_multiple=12,\n",
    "    r_peak_distance=10,\n",
    "    r_peak_plateau=3,\n",
    "    hr_min=40,\n",
    "    hr_max=200,\n",
    "    hr_max_diff=20,\n",
    ")\n",
    "\n",
    "print(params)\n",
    "\n",
    "analysis = EcgAnalysis(params=params)\n",
    "\n",
    "print(analysis)\n",
    "\n",
    "result = analysis.analyze(signal=[0, 0, 0, 0, 0])\n",
    "\n",
    "print(result)\n",
    "\n",
    "params = PpgAnalysisParameters(\n",
    "    sampling_frequency=30,\n",
    "    filter_cutoff_low=1, \n",
    "    filter_cutoff_high=10, \n",
    "    filter_order=4, \n",
    "    envelope_range=23,\n",
    "    amplitude_min=10,\n",
    "    amplitude_max=2000,\n",
    "    trough_depth_min=-0.25, \n",
    "    trough_depth_max=0.25, \n",
    "    pulse_width_min=0.333,\n",
    "    pulse_width_max=1.5\n",
    ")\n",
    "\n",
    "print(params)\n",
    "\n",
    "analysis = PpgAnalysis(params=params)\n",
    "\n",
    "print(analysis)\n",
    "\n",
    "result = analysis.analyze(signal=[0, 0, 0, 0, 0])\n",
    "\n",
    "print(result)\n",
    "\n"
   ],
   "outputs": [
    {
     "name": "stdout",
     "output_type": "stream",
     "text": [
      "ChannelType.CNT\n",
      "EcgAnalysisParameters(sampling_frequency=30, filter_cutoff_low=0.6, filter_order=1, r_peak_prominence_mad_multiple=12, r_peak_distance=10, r_peak_plateau=3, hr_min=40, hr_max=200, hr_max_diff=20)\n",
      "<vvcore.EcgAnalysis object at 0x103a1d670>\n",
      "EcgAnalysisResults(hr_estimate=nan, signal_quality=0.0)\n",
      "PpgAnalysisParameters(sampling_frequency=30, filter_cutoff_low=1, filter_cutoff_high=10, filter_order=4, envelope_range=23, amplitude_min=10, amplitude_max=2000, trough_depth_min=-0.25, trough_depth_max=0.25, pulse_width_min=0.333, pulse_width_max=1.5)\n",
      "<vvcore.PpgAnalysis object at 0x103a35040>\n",
      "PpgAnalysisResults(hr_estimate=112.5, signal_quality=0.0)\n"
     ]
    }
   ],
   "execution_count": 1
  },
  {
   "metadata": {
    "ExecuteTime": {
     "end_time": "2024-07-22T18:40:08.774300Z",
     "start_time": "2024-07-22T18:40:08.772433Z"
    }
   },
   "cell_type": "code",
   "source": "",
   "id": "ee7cef5adb3099b9",
   "outputs": [],
   "execution_count": 1
  }
 ],
 "metadata": {
  "kernelspec": {
   "display_name": "Python 3",
   "language": "python",
   "name": "python3"
  },
  "language_info": {
   "codemirror_mode": {
    "name": "ipython",
    "version": 2
   },
   "file_extension": ".py",
   "mimetype": "text/x-python",
   "name": "python",
   "nbconvert_exporter": "python",
   "pygments_lexer": "ipython2",
   "version": "2.7.6"
  }
 },
 "nbformat": 4,
 "nbformat_minor": 5
}
